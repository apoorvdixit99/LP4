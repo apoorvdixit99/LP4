{
  "nbformat": 4,
  "nbformat_minor": 0,
  "metadata": {
    "kernelspec": {
      "display_name": "Python 3",
      "language": "python",
      "name": "python3"
    },
    "language_info": {
      "codemirror_mode": {
        "name": "ipython",
        "version": 3
      },
      "file_extension": ".py",
      "mimetype": "text/x-python",
      "name": "python",
      "nbconvert_exporter": "python",
      "pygments_lexer": "ipython3",
      "version": "3.8.3"
    },
    "colab": {
      "name": "SCOA Assignment 5.ipynb",
      "provenance": [],
      "collapsed_sections": []
    }
  },
  "cells": [
    {
      "cell_type": "markdown",
      "metadata": {
        "id": "Q1Xw311-x0Je"
      },
      "source": [
        "# LP4 SCOA Assignment 5"
      ]
    },
    {
      "cell_type": "code",
      "metadata": {
        "id": "yHnojV8DWyz0"
      },
      "source": [
        "import numpy as np\n",
        "\n",
        "def unit_step(v):\n",
        "    if v >= 0:\n",
        "        return 1\n",
        "    else:\n",
        "        return 0\n",
        "\n",
        "def perceptron(x, w, b):\n",
        "    v = np.dot(w, x) + b\n",
        "    y = unit_step(v)\n",
        "    return y"
      ],
      "execution_count": 1,
      "outputs": []
    },
    {
      "cell_type": "code",
      "metadata": {
        "colab": {
          "base_uri": "https://localhost:8080/"
        },
        "id": "oJtTIDxvdoBp",
        "outputId": "738fd075-42f4-45fb-99cc-edbaaed1b2ee"
      },
      "source": [
        "def NOT_percep(x):\n",
        "    return perceptron(x, w=-1, b=0.5)\n",
        "\n",
        "print(\"NOT(0) = {}\".format(NOT_percep(0)))\n",
        "print(\"NOT(1) = {}\".format(NOT_percep(1)))"
      ],
      "execution_count": 2,
      "outputs": [
        {
          "output_type": "stream",
          "text": [
            "NOT(0) = 1\n",
            "NOT(1) = 0\n"
          ],
          "name": "stdout"
        }
      ]
    },
    {
      "cell_type": "code",
      "metadata": {
        "colab": {
          "base_uri": "https://localhost:8080/"
        },
        "id": "QiYVDJ3TWy0A",
        "outputId": "cae1bc42-6d5d-421b-d6df-cc0dcfe9f696"
      },
      "source": [
        "def AND_percep(x):\n",
        "    w = np.array([1, 1])\n",
        "    b = -1.5\n",
        "    return perceptron(x, w, b)\n",
        "\n",
        "example1 = np.array([1, 1])\n",
        "example2 = np.array([1, 0])\n",
        "example3 = np.array([0, 1])\n",
        "example4 = np.array([0, 0])\n",
        "\n",
        "print(\"AND({}, {}) = {}\".format(1, 1, AND_percep(example1)))\n",
        "print(\"AND({}, {}) = {}\".format(1, 0, AND_percep(example2)))\n",
        "print(\"AND({}, {}) = {}\".format(0, 1, AND_percep(example3)))\n",
        "print(\"AND({}, {}) = {}\".format(0, 0, AND_percep(example4)))"
      ],
      "execution_count": 3,
      "outputs": [
        {
          "output_type": "stream",
          "text": [
            "AND(1, 1) = 1\n",
            "AND(1, 0) = 0\n",
            "AND(0, 1) = 0\n",
            "AND(0, 0) = 0\n"
          ],
          "name": "stdout"
        }
      ]
    },
    {
      "cell_type": "code",
      "metadata": {
        "colab": {
          "base_uri": "https://localhost:8080/"
        },
        "id": "_09BAYTSWy0D",
        "outputId": "658da090-0a77-440c-83e8-bd6be5f0b3d2"
      },
      "source": [
        "def OR_percep(x):\n",
        "    w = np.array([1, 1])\n",
        "    b = -0.5\n",
        "    return perceptron(x, w, b)\n",
        "\n",
        "# Test\n",
        "example1 = np.array([1, 1])\n",
        "example2 = np.array([1, 0])\n",
        "example3 = np.array([0, 1])\n",
        "example4 = np.array([0, 0])\n",
        "\n",
        "print(\"OR({}, {}) = {}\".format(1, 1, OR_percep(example1)))\n",
        "print(\"OR({}, {}) = {}\".format(1, 0, OR_percep(example2)))\n",
        "print(\"OR({}, {}) = {}\".format(0, 1, OR_percep(example3)))\n",
        "print(\"OR({}, {}) = {}\".format(0, 0, OR_percep(example4)))"
      ],
      "execution_count": 4,
      "outputs": [
        {
          "output_type": "stream",
          "text": [
            "OR(1, 1) = 1\n",
            "OR(1, 0) = 1\n",
            "OR(0, 1) = 1\n",
            "OR(0, 0) = 0\n"
          ],
          "name": "stdout"
        }
      ]
    },
    {
      "cell_type": "code",
      "metadata": {
        "colab": {
          "base_uri": "https://localhost:8080/"
        },
        "id": "ymOQdMipWy0G",
        "outputId": "28c1edec-32d0-4c6a-80f3-fcc368eec061"
      },
      "source": [
        "def XOR_net(x):\n",
        "    gate_1 = AND_percep(x)\n",
        "    gate_2 = NOT_percep(gate_1)\n",
        "    gate_3 = OR_percep(x)\n",
        "    new_x = np.array([gate_2, gate_3])\n",
        "    output = AND_percep(new_x)\n",
        "    return output\n",
        "\n",
        "print(\"XOR({}, {}) = {}\".format(1, 1, XOR_net(example1)))\n",
        "print(\"XOR({}, {}) = {}\".format(1, 0, XOR_net(example2)))\n",
        "print(\"XOR({}, {}) = {}\".format(0, 1, XOR_net(example3)))\n",
        "print(\"XOR({}, {}) = {}\".format(0, 0, XOR_net(example4)))"
      ],
      "execution_count": 5,
      "outputs": [
        {
          "output_type": "stream",
          "text": [
            "XOR(1, 1) = 0\n",
            "XOR(1, 0) = 1\n",
            "XOR(0, 1) = 1\n",
            "XOR(0, 0) = 0\n"
          ],
          "name": "stdout"
        }
      ]
    }
  ]
}