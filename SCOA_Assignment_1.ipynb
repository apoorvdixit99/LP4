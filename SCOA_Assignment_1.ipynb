{
  "nbformat": 4,
  "nbformat_minor": 0,
  "metadata": {
    "colab": {
      "name": "SCOA Assignment 1.ipynb",
      "provenance": [],
      "collapsed_sections": []
    },
    "kernelspec": {
      "name": "python3",
      "display_name": "Python 3"
    }
  },
  "cells": [
    {
      "cell_type": "markdown",
      "metadata": {
        "id": "Q1Xw311-x0Je"
      },
      "source": [
        "# LP4 SCOA Assignment 1"
      ]
    },
    {
      "cell_type": "code",
      "metadata": {
        "id": "51Bwb6AbjQ8r"
      },
      "source": [
        "class SCOAAssignment1:\n",
        "\n",
        "\n",
        "    def get_intersection(self,A,B):\n",
        "\n",
        "        Fuzzy_temp1 = A.copy()\n",
        "        Fuzzy_temp2 = B.copy()\n",
        "        intersection_result = dict({})\n",
        "\n",
        "        for element in Fuzzy_temp1.keys():\n",
        "            if element not in Fuzzy_temp2.keys():\n",
        "                Fuzzy_temp2[element] = 0\n",
        "            if Fuzzy_temp1[element] < Fuzzy_temp2[element]:\n",
        "                intersection_result[element] = Fuzzy_temp1[element]\n",
        "            else:\n",
        "                intersection_result[element] = Fuzzy_temp2[element]\n",
        "\n",
        "        for element in Fuzzy_temp2.keys():\n",
        "            if element not in Fuzzy_temp1.keys():\n",
        "                Fuzzy_temp1[element] = 0\n",
        "            if element in intersection_result.keys():\n",
        "                continue\n",
        "            if Fuzzy_temp1[element] < Fuzzy_temp2[element]:\n",
        "                intersection_result[element] = Fuzzy_temp1[element]\n",
        "            else:\n",
        "                intersection_result[element] = Fuzzy_temp2[element]\n",
        "\n",
        "        elements = list(intersection_result.keys())\n",
        "        for element in elements:\n",
        "            if intersection_result[element] == 0:\n",
        "                del intersection_result[element]\n",
        "\n",
        "        return intersection_result\n",
        "\n",
        "\n",
        "    def get_complement(self,A):\n",
        "\n",
        "        Fuzzy_temp = A.copy()\n",
        "        A_complement = dict({})\n",
        "\n",
        "        for element in Fuzzy_temp.keys():\n",
        "            A_complement[element] = 1 - Fuzzy_temp[element]\n",
        "\n",
        "        return A_complement\n",
        "\n",
        "\n",
        "    def get_union(self,A,B):\n",
        "\n",
        "        Fuzzy_temp1 = A.copy()\n",
        "        Fuzzy_temp2 = B.copy()\n",
        "        union_result = dict({})\n",
        "\n",
        "        for element in Fuzzy_temp1.keys():\n",
        "            if element not in Fuzzy_temp2.keys():\n",
        "                Fuzzy_temp2[element] = 0\n",
        "            if Fuzzy_temp1[element] > Fuzzy_temp1[element]:\n",
        "                union_result[element] = Fuzzy_temp1[element]\n",
        "            else:\n",
        "                union_result[element] = Fuzzy_temp2[element]\n",
        "\n",
        "        for element in Fuzzy_temp2.keys():\n",
        "            if element not in Fuzzy_temp1.keys():\n",
        "                Fuzzy_temp1[element] = 0\n",
        "            if element in union_result.keys():\n",
        "                continue\n",
        "            if Fuzzy_temp1[element] > Fuzzy_temp2[element]:\n",
        "                union_result[element] = Fuzzy_temp1[element]\n",
        "            else:\n",
        "                union_result[element] = Fuzzy_temp2[element]\n",
        "        \n",
        "        return union_result\n",
        "\n",
        "\n",
        "    def get_difference(self, A, B):\n",
        "        return self.get_intersection(A, self.get_complement(B))\n",
        "\n",
        "\n",
        "    def get_cartesian_product(self,A, B):\n",
        "\n",
        "        import pandas as pd\n",
        "        import numpy as np\n",
        "        \n",
        "        data = []\n",
        "        \n",
        "        for a in A.keys():\n",
        "            row = []\n",
        "            for b in B.keys():\n",
        "                row.append(np.minimum(A[a], B[b]))\n",
        "            data.append(row)\n",
        "        \n",
        "        i = list(A.keys())\n",
        "        c = list(B.keys())\n",
        "        \n",
        "        cartesianProduct = pd.DataFrame(data, columns = c, index = i)\n",
        "        \n",
        "        return cartesianProduct\n",
        "\n",
        "\n",
        "    def get_min_max_composition(self,A, B):\n",
        "\n",
        "        import numpy as np\n",
        "        import pandas as pd\n",
        "        \n",
        "        Anp = np.array(A)\n",
        "        Bnp = np.array(B)\n",
        "        \n",
        "        data = np.zeros((len(Anp), len(Bnp[0])))\n",
        "        \n",
        "        for i in range(len(Anp)):\n",
        "            for j in range(len(Bnp[0])):\n",
        "                min = []\n",
        "                for k in range(len(Bnp)):\n",
        "                    min.append(np.minimum(Anp[i][k], Bnp[k][j]))\n",
        "                data[i][j] = np.max(min)\n",
        "        \n",
        "        return pd.DataFrame(data, index = A.index, columns = B.columns)"
      ],
      "execution_count": null,
      "outputs": []
    },
    {
      "cell_type": "code",
      "metadata": {
        "colab": {
          "base_uri": "https://localhost:8080/"
        },
        "id": "oxsIST4YnrvP",
        "outputId": "0b7aeecf-5633-4199-ecae-ab7485a90384"
      },
      "source": [
        "A = {\"a\": 0.4, \"b\": 0.1, \"c\": 0.4, \"d\": 0.6, \"e\":0.3}\n",
        "B = {\"a\": 0.6, \"b\": 0.3, \"c\": 0.5, \"d\": 0.4, \"f\":0.9}\n",
        "\n",
        "print('Fuzzy Sets')\n",
        "print('A = {result}'.format(result=A))\n",
        "print('B = {result}'.format(result=B))\n",
        "\n",
        "scoa1 = SCOAAssignment1()\n",
        "print('\\nIntersection\\nA ∩ B = {result}'.format(result=scoa1.get_intersection(A,B)))\n",
        "print('\\nComplement of A\\nA\\' = {result}'.format(result=scoa1.get_complement(A)))\n",
        "print('\\nComplement of B\\nB\\' = {result}'.format(result=scoa1.get_complement(B)))\n",
        "print('\\nUnion\\nA U B = {result}'.format(result=scoa1.get_union(A,B)))\n",
        "print('\\nDifference\\nA - B = {result}'.format(result=scoa1.get_difference(A,B)))"
      ],
      "execution_count": null,
      "outputs": [
        {
          "output_type": "stream",
          "text": [
            "Fuzzy Sets\n",
            "A = {'a': 0.4, 'b': 0.1, 'c': 0.4, 'd': 0.6, 'e': 0.3}\n",
            "B = {'a': 0.6, 'b': 0.3, 'c': 0.5, 'd': 0.4, 'f': 0.9}\n",
            "\n",
            "Intersection\n",
            "A ∩ B = {'a': 0.4, 'b': 0.1, 'c': 0.4, 'd': 0.4}\n",
            "\n",
            "Complement of A\n",
            "A' = {'a': 0.6, 'b': 0.9, 'c': 0.6, 'd': 0.4, 'e': 0.7}\n",
            "\n",
            "Complement of B\n",
            "B' = {'a': 0.4, 'b': 0.7, 'c': 0.5, 'd': 0.6, 'f': 0.09999999999999998}\n",
            "\n",
            "Union\n",
            "A U B = {'a': 0.6, 'b': 0.3, 'c': 0.5, 'd': 0.4, 'e': 0, 'f': 0.9}\n",
            "\n",
            "Difference\n",
            "A - B = {'a': 0.4, 'b': 0.1, 'c': 0.4, 'd': 0.6}\n"
          ],
          "name": "stdout"
        }
      ]
    },
    {
      "cell_type": "code",
      "metadata": {
        "id": "Apx2FSYtnzwE"
      },
      "source": [
        "X = {\"x1\": 0.5, \"x2\": 0.1, \"x3\": 0.4, \"x4\": 0.6}\n",
        "Y = {\"y1\": 0.2, \"y2\": 0.3, \"y3\": 0.5}\n",
        "Z = {\"z1\": 0.7, \"z2\": 0.4, \"z3\": 0.9, \"z4\": 0.3}\n",
        "XY = scoa1.get_cartesian_product(X, Y)\n",
        "YZ = scoa1.get_cartesian_product(Y, Z)"
      ],
      "execution_count": null,
      "outputs": []
    },
    {
      "cell_type": "code",
      "metadata": {
        "colab": {
          "base_uri": "https://localhost:8080/",
          "height": 166
        },
        "id": "svuhQ1F7mmbI",
        "outputId": "461aaacb-fe82-4fc6-8893-33bf6629bc09"
      },
      "source": [
        "XY"
      ],
      "execution_count": null,
      "outputs": [
        {
          "output_type": "execute_result",
          "data": {
            "text/html": [
              "<div>\n",
              "<style scoped>\n",
              "    .dataframe tbody tr th:only-of-type {\n",
              "        vertical-align: middle;\n",
              "    }\n",
              "\n",
              "    .dataframe tbody tr th {\n",
              "        vertical-align: top;\n",
              "    }\n",
              "\n",
              "    .dataframe thead th {\n",
              "        text-align: right;\n",
              "    }\n",
              "</style>\n",
              "<table border=\"1\" class=\"dataframe\">\n",
              "  <thead>\n",
              "    <tr style=\"text-align: right;\">\n",
              "      <th></th>\n",
              "      <th>y1</th>\n",
              "      <th>y2</th>\n",
              "      <th>y3</th>\n",
              "    </tr>\n",
              "  </thead>\n",
              "  <tbody>\n",
              "    <tr>\n",
              "      <th>x1</th>\n",
              "      <td>0.2</td>\n",
              "      <td>0.3</td>\n",
              "      <td>0.5</td>\n",
              "    </tr>\n",
              "    <tr>\n",
              "      <th>x2</th>\n",
              "      <td>0.1</td>\n",
              "      <td>0.1</td>\n",
              "      <td>0.1</td>\n",
              "    </tr>\n",
              "    <tr>\n",
              "      <th>x3</th>\n",
              "      <td>0.2</td>\n",
              "      <td>0.3</td>\n",
              "      <td>0.4</td>\n",
              "    </tr>\n",
              "    <tr>\n",
              "      <th>x4</th>\n",
              "      <td>0.2</td>\n",
              "      <td>0.3</td>\n",
              "      <td>0.5</td>\n",
              "    </tr>\n",
              "  </tbody>\n",
              "</table>\n",
              "</div>"
            ],
            "text/plain": [
              "     y1   y2   y3\n",
              "x1  0.2  0.3  0.5\n",
              "x2  0.1  0.1  0.1\n",
              "x3  0.2  0.3  0.4\n",
              "x4  0.2  0.3  0.5"
            ]
          },
          "metadata": {
            "tags": []
          },
          "execution_count": 10
        }
      ]
    },
    {
      "cell_type": "code",
      "metadata": {
        "colab": {
          "base_uri": "https://localhost:8080/",
          "height": 136
        },
        "id": "T3tuhwpVmng3",
        "outputId": "5db7b081-ccac-4647-80d3-5f8b8208c191"
      },
      "source": [
        "YZ"
      ],
      "execution_count": null,
      "outputs": [
        {
          "output_type": "execute_result",
          "data": {
            "text/html": [
              "<div>\n",
              "<style scoped>\n",
              "    .dataframe tbody tr th:only-of-type {\n",
              "        vertical-align: middle;\n",
              "    }\n",
              "\n",
              "    .dataframe tbody tr th {\n",
              "        vertical-align: top;\n",
              "    }\n",
              "\n",
              "    .dataframe thead th {\n",
              "        text-align: right;\n",
              "    }\n",
              "</style>\n",
              "<table border=\"1\" class=\"dataframe\">\n",
              "  <thead>\n",
              "    <tr style=\"text-align: right;\">\n",
              "      <th></th>\n",
              "      <th>z1</th>\n",
              "      <th>z2</th>\n",
              "      <th>z3</th>\n",
              "      <th>z4</th>\n",
              "    </tr>\n",
              "  </thead>\n",
              "  <tbody>\n",
              "    <tr>\n",
              "      <th>y1</th>\n",
              "      <td>0.2</td>\n",
              "      <td>0.2</td>\n",
              "      <td>0.2</td>\n",
              "      <td>0.2</td>\n",
              "    </tr>\n",
              "    <tr>\n",
              "      <th>y2</th>\n",
              "      <td>0.3</td>\n",
              "      <td>0.3</td>\n",
              "      <td>0.3</td>\n",
              "      <td>0.3</td>\n",
              "    </tr>\n",
              "    <tr>\n",
              "      <th>y3</th>\n",
              "      <td>0.5</td>\n",
              "      <td>0.4</td>\n",
              "      <td>0.5</td>\n",
              "      <td>0.3</td>\n",
              "    </tr>\n",
              "  </tbody>\n",
              "</table>\n",
              "</div>"
            ],
            "text/plain": [
              "     z1   z2   z3   z4\n",
              "y1  0.2  0.2  0.2  0.2\n",
              "y2  0.3  0.3  0.3  0.3\n",
              "y3  0.5  0.4  0.5  0.3"
            ]
          },
          "metadata": {
            "tags": []
          },
          "execution_count": 11
        }
      ]
    },
    {
      "cell_type": "code",
      "metadata": {
        "colab": {
          "base_uri": "https://localhost:8080/",
          "height": 166
        },
        "id": "ilNQuOj8m_YE",
        "outputId": "b55ab327-2751-46e6-c30e-439a323d4f52"
      },
      "source": [
        "scoa1.get_min_max_composition(XY, YZ)"
      ],
      "execution_count": null,
      "outputs": [
        {
          "output_type": "execute_result",
          "data": {
            "text/html": [
              "<div>\n",
              "<style scoped>\n",
              "    .dataframe tbody tr th:only-of-type {\n",
              "        vertical-align: middle;\n",
              "    }\n",
              "\n",
              "    .dataframe tbody tr th {\n",
              "        vertical-align: top;\n",
              "    }\n",
              "\n",
              "    .dataframe thead th {\n",
              "        text-align: right;\n",
              "    }\n",
              "</style>\n",
              "<table border=\"1\" class=\"dataframe\">\n",
              "  <thead>\n",
              "    <tr style=\"text-align: right;\">\n",
              "      <th></th>\n",
              "      <th>z1</th>\n",
              "      <th>z2</th>\n",
              "      <th>z3</th>\n",
              "      <th>z4</th>\n",
              "    </tr>\n",
              "  </thead>\n",
              "  <tbody>\n",
              "    <tr>\n",
              "      <th>x1</th>\n",
              "      <td>0.5</td>\n",
              "      <td>0.4</td>\n",
              "      <td>0.5</td>\n",
              "      <td>0.3</td>\n",
              "    </tr>\n",
              "    <tr>\n",
              "      <th>x2</th>\n",
              "      <td>0.1</td>\n",
              "      <td>0.1</td>\n",
              "      <td>0.1</td>\n",
              "      <td>0.1</td>\n",
              "    </tr>\n",
              "    <tr>\n",
              "      <th>x3</th>\n",
              "      <td>0.4</td>\n",
              "      <td>0.4</td>\n",
              "      <td>0.4</td>\n",
              "      <td>0.3</td>\n",
              "    </tr>\n",
              "    <tr>\n",
              "      <th>x4</th>\n",
              "      <td>0.5</td>\n",
              "      <td>0.4</td>\n",
              "      <td>0.5</td>\n",
              "      <td>0.3</td>\n",
              "    </tr>\n",
              "  </tbody>\n",
              "</table>\n",
              "</div>"
            ],
            "text/plain": [
              "     z1   z2   z3   z4\n",
              "x1  0.5  0.4  0.5  0.3\n",
              "x2  0.1  0.1  0.1  0.1\n",
              "x3  0.4  0.4  0.4  0.3\n",
              "x4  0.5  0.4  0.5  0.3"
            ]
          },
          "metadata": {
            "tags": []
          },
          "execution_count": 12
        }
      ]
    }
  ]
}