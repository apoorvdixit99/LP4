{
  "nbformat": 4,
  "nbformat_minor": 0,
  "metadata": {
    "kernelspec": {
      "display_name": "Python 3",
      "language": "python",
      "name": "python3"
    },
    "language_info": {
      "codemirror_mode": {
        "name": "ipython",
        "version": 3
      },
      "file_extension": ".py",
      "mimetype": "text/x-python",
      "name": "python",
      "nbconvert_exporter": "python",
      "pygments_lexer": "ipython3",
      "version": "3.8.3"
    },
    "colab": {
      "name": "SCOA Assignment 4.ipynb",
      "provenance": []
    }
  },
  "cells": [
    {
      "cell_type": "markdown",
      "metadata": {
        "id": "Q1Xw311-x0Je"
      },
      "source": [
        "# LP4 SCOA Assignment 4\n"
      ]
    },
    {
      "cell_type": "code",
      "metadata": {
        "id": "fnyBw8mDWTt7"
      },
      "source": [
        "import numpy as np\n",
        "\n",
        "class mcp:\n",
        "\n",
        "    def __init__(self,X):\n",
        "        self.X=X\n",
        "    \n",
        "    def g(self):\n",
        "        return np.sum(self.X,axis=1)\n",
        "    \n",
        "    def f(self,op):\n",
        "        y=[]\n",
        "        b=self.X.shape[1] if op=='And' else 1 \n",
        "        for i in range(X.shape[0]):\n",
        "            if self.g()[i] >= b:\n",
        "                y.append([1])\n",
        "            else:\n",
        "                y.append([0])\n",
        "        return np.array(y)"
      ],
      "execution_count": 1,
      "outputs": []
    },
    {
      "cell_type": "code",
      "metadata": {
        "colab": {
          "base_uri": "https://localhost:8080/"
        },
        "id": "Gyh9hbPZWTt_",
        "outputId": "3202aca2-3512-4f47-d888-e81df4f83e9d"
      },
      "source": [
        "n=int(input('Enter no of instances: '))\n",
        "m=int(input('Enter no of features: '))\n",
        "X=np.random.randint(2,size=(n,m))\n",
        "print('\\nTruth table:\\n',X)\n",
        "neuron=mcp(X)\n",
        "print('\\nOuput of And operation:\\n',neuron.f('And'))\n",
        "print('\\nOuput of Or operation:\\n',neuron.f('Or'))"
      ],
      "execution_count": 2,
      "outputs": [
        {
          "output_type": "stream",
          "text": [
            "Enter no of instances: 4\n",
            "Enter no of features: 3\n",
            "\n",
            "Truth table:\n",
            " [[1 0 1]\n",
            " [0 0 1]\n",
            " [0 0 0]\n",
            " [0 0 1]]\n",
            "\n",
            "Ouput of And operation:\n",
            " [[0]\n",
            " [0]\n",
            " [0]\n",
            " [0]]\n",
            "\n",
            "Ouput of Or operation:\n",
            " [[1]\n",
            " [1]\n",
            " [0]\n",
            " [1]]\n"
          ],
          "name": "stdout"
        }
      ]
    }
  ]
}