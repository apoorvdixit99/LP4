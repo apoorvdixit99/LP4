{
  "nbformat": 4,
  "nbformat_minor": 0,
  "metadata": {
    "colab": {
      "name": "SCOA Assignment 3.ipynb",
      "provenance": []
    },
    "kernelspec": {
      "name": "python3",
      "display_name": "Python 3"
    }
  },
  "cells": [
    {
      "cell_type": "markdown",
      "metadata": {
        "id": "Q1Xw311-x0Je"
      },
      "source": [
        "# LP4 SCOA Assignment 3"
      ]
    },
    {
      "cell_type": "code",
      "metadata": {
        "colab": {
          "base_uri": "https://localhost:8080/",
          "height": 530
        },
        "id": "nFxW6KqOp-NB",
        "outputId": "82d5870f-22c0-454c-8cd1-65bf1876e3d9"
      },
      "source": [
        "import random\n",
        "import numpy as np \n",
        "\n",
        "W = 0.5\n",
        "c1 = 2\n",
        "c2 = 2 \n",
        "target = 1\n",
        "\n",
        "n_iterations = 50\n",
        "target_error = 1e-6\n",
        "n_particles = 30\n",
        "\n",
        "def visualize(particle__):\n",
        "    x=[]\n",
        "    y=[]\n",
        "    for part in particle__:\n",
        "        x.append(part[0])\n",
        "        y.append(part[1])\n",
        "    import matplotlib.pyplot as plt\n",
        "    plt.scatter(x, y, label= \"stars\", color= \"green\",  marker= \"*\", s=30)\n",
        "    plt.show()\n",
        "\n",
        "def fitness_function(position):\n",
        "    return position[0]**2 + position[1]**2 + 1\n",
        "\n",
        "particle_position_vector = np.array([np.array([(-1) ** (bool(random.getrandbits(1))) * random.random()*50, (-1)**(bool(random.getrandbits(1))) * random.random()*50]) for _ in range(n_particles)])\n",
        "visualize(particle_position_vector)\n",
        "pbest_position = particle_position_vector\n",
        "pbest_fitness_value = np.array([float('inf') for _ in range(n_particles)])\n",
        "gbest_fitness_value = float('inf')\n",
        "gbest_position = np.array([float('inf'), float('inf')])\n",
        "\n",
        "velocity_vector = ([np.array([0, 0]) for _ in range(n_particles)])\n",
        "iteration = 0\n",
        "while iteration < n_iterations:\n",
        "    for i in range(n_particles):\n",
        "        fitness_cadidate = fitness_function(particle_position_vector[i])\n",
        "        if(pbest_fitness_value[i] > fitness_cadidate):\n",
        "            pbest_fitness_value[i] = fitness_cadidate\n",
        "            pbest_position[i] = particle_position_vector[i]\n",
        "        if(gbest_fitness_value > fitness_cadidate):\n",
        "            gbest_fitness_value = fitness_cadidate\n",
        "            gbest_position = particle_position_vector[i]\n",
        "    if(abs(gbest_fitness_value - target) < target_error):\n",
        "        break\n",
        "    for i in range(n_particles):\n",
        "        new_velocity = (W*velocity_vector[i]) + (c1*random.random()) * (pbest_position[i] - particle_position_vector[i]) + (c2*random.random()) * (gbest_position-particle_position_vector[i])\n",
        "        new_position = new_velocity + particle_position_vector[i]\n",
        "        particle_position_vector[i] = new_position\n",
        "    iteration = iteration + 1\n",
        "    \n",
        "print(\"The best position is \", gbest_position, \"in iteration number \", iteration)\n",
        "visualize(particle_position_vector)"
      ],
      "execution_count": 1,
      "outputs": [
        {
          "output_type": "display_data",
          "data": {
            "image/png": "[encoded data removed]",
            "text/plain": [
              "<Figure size 432x288 with 1 Axes>"
            ]
          },
          "metadata": {
            "tags": [],
            "needs_background": "light"
          }
        },
        {
          "output_type": "stream",
          "text": [
            "The best position is  [-0.0002517  -0.00010338] in iteration number  9\n"
          ],
          "name": "stdout"
        },
        {
          "output_type": "display_data",
          "data": {
            "image/png": "[encoded data removed]",
            "text/plain": [
              "<Figure size 432x288 with 1 Axes>"
            ]
          },
          "metadata": {
            "tags": [],
            "needs_background": "light"
          }
        }
      ]
    }
  ]
}